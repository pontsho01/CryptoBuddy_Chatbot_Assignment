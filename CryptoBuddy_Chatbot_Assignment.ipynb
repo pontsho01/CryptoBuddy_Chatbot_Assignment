{
  "nbformat": 4,
  "nbformat_minor": 0,
  "metadata": {
    "colab": {
      "provenance": []
    },
    "kernelspec": {
      "name": "python3",
      "display_name": "Python 3"
    },
    "language_info": {
      "name": "python"
    }
  },
  "cells": [
    {
      "cell_type": "code",
      "source": [
        "# Step 1: Define chatbot personality\n",
        "bot_name = \"CryptoBuddy\"\n",
        "print(f\"{bot_name}: Hey there! I’m your crypto sidekick. Ask me anything! 💰\")\n",
        "\n",
        "# Step 2: Crypto data\n",
        "crypto_db = {\n",
        "    \"Bitcoin\": {\n",
        "        \"price_trend\": \"rising\",\n",
        "        \"market_cap\": \"high\",\n",
        "        \"energy_use\": \"high\",\n",
        "        \"sustainability_score\": 3/10\n",
        "    },\n",
        "    \"Ethereum\": {\n",
        "        \"price_trend\": \"stable\",\n",
        "        \"market_cap\": \"high\",\n",
        "        \"energy_use\": \"medium\",\n",
        "        \"sustainability_score\": 6/10\n",
        "    },\n",
        "    \"Cardano\": {\n",
        "        \"price_trend\": \"rising\",\n",
        "        \"market_cap\": \"medium\",\n",
        "        \"energy_use\": \"low\",\n",
        "        \"sustainability_score\": 8/10\n",
        "    }\n",
        "}\n"
      ],
      "metadata": {
        "colab": {
          "base_uri": "https://localhost:8080/"
        },
        "id": "XHygcWHadV9V",
        "outputId": "122aaf13-d437-4328-daec-a3672d51b16e"
      },
      "execution_count": 1,
      "outputs": [
        {
          "output_type": "stream",
          "name": "stdout",
          "text": [
            "CryptoBuddy: Hey there! I’m your crypto sidekick. Ask me anything! 💰\n"
          ]
        }
      ]
    },
    {
      "cell_type": "code",
      "source": [
        "# Step 3: Create function to generate responses\n",
        "def respond_to_query(user_query):\n",
        "    user_query = user_query.lower()\n",
        "\n",
        "    if \"sustainable\" in user_query:\n",
        "        recommend = max(crypto_db, key=lambda x: crypto_db[x][\"sustainability_score\"])\n",
        "        return f\"{recommend} is the most eco-friendly choice! 🌱 Sustainability Score: {crypto_db[recommend]['sustainability_score']*10}/10\"\n",
        "\n",
        "    elif \"trending\" in user_query or \"rising\" in user_query:\n",
        "        trending_cryptos = [coin for coin in crypto_db if crypto_db[coin][\"price_trend\"] == \"rising\"]\n",
        "        return f\"These cryptos are currently trending up: {', '.join(trending_cryptos)} 🚀\"\n",
        "\n",
        "    elif \"long-term\" in user_query or \"growth\" in user_query:\n",
        "        for coin, data in crypto_db.items():\n",
        "            if data[\"price_trend\"] == \"rising\" and data[\"market_cap\"] in [\"high\", \"medium\"] and data[\"sustainability_score\"] > 0.7:\n",
        "                return f\"{coin} is great for long-term growth! 📈 It’s rising and has strong sustainability.\"\n",
        "\n",
        "        return \"Consider Cardano for long-term growth! 🚀\"\n",
        "\n",
        "    elif \"energy\" in user_query:\n",
        "        low_energy = [coin for coin in crypto_db if crypto_db[coin][\"energy_use\"] == \"low\"]\n",
        "        return f\"Low-energy-use coins: {', '.join(low_energy)} ⚡\"\n",
        "\n",
        "    else:\n",
        "        return \"I didn’t understand that 🤔. Try asking about trending, sustainable, or growth cryptos.\"\n"
      ],
      "metadata": {
        "id": "lOJOo7A-davl"
      },
      "execution_count": 2,
      "outputs": []
    },
    {
      "cell_type": "code",
      "source": [
        "# Step 4: Simulate user interaction in Colab\n",
        "def chat_with_bot(message):\n",
        "    print(\"You:\", message)\n",
        "    print(f\"{bot_name}:\", respond_to_query(message))\n"
      ],
      "metadata": {
        "id": "vS6wVokNdfdU"
      },
      "execution_count": 3,
      "outputs": []
    },
    {
      "cell_type": "code",
      "source": [
        "# Step 5: Test with example questions\n",
        "chat_with_bot(\"Which crypto is trending up?\")\n",
        "chat_with_bot(\"What’s the most sustainable coin?\")\n",
        "chat_with_bot(\"Which crypto is best for long-term growth?\")\n",
        "chat_with_bot(\"Which uses less energy?\")"
      ],
      "metadata": {
        "colab": {
          "base_uri": "https://localhost:8080/"
        },
        "id": "ExgD8eYyetmW",
        "outputId": "8621aab9-a316-4cbe-9ed2-675e430ad500"
      },
      "execution_count": 4,
      "outputs": [
        {
          "output_type": "stream",
          "name": "stdout",
          "text": [
            "You: Which crypto is trending up?\n",
            "CryptoBuddy: These cryptos are currently trending up: Bitcoin, Cardano 🚀\n",
            "You: What’s the most sustainable coin?\n",
            "CryptoBuddy: Cardano is the most eco-friendly choice! 🌱 Sustainability Score: 8.0/10\n",
            "You: Which crypto is best for long-term growth?\n",
            "CryptoBuddy: Cardano is great for long-term growth! 📈 It’s rising and has strong sustainability.\n",
            "You: Which uses less energy?\n",
            "CryptoBuddy: Low-energy-use coins: Cardano ⚡\n"
          ]
        }
      ]
    }
  ]
}